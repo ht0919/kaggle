{
 "cells": [
  {
   "cell_type": "code",
   "execution_count": 1,
   "metadata": {},
   "outputs": [
    {
     "name": "stderr",
     "output_type": "stream",
     "text": [
      "/home/ht0919/.pyenv/versions/3.6.4/lib/python3.6/site-packages/pandas/core/indexing.py:190: SettingWithCopyWarning: \n",
      "A value is trying to be set on a copy of a slice from a DataFrame\n",
      "\n",
      "See the caveats in the documentation: http://pandas.pydata.org/pandas-docs/stable/indexing.html#indexing-view-versus-copy\n",
      "  self._setitem_with_indexer(indexer, value)\n"
     ]
    }
   ],
   "source": [
    "from sklearn.ensemble import GradientBoostingClassifier\n",
    "import pandas as pd\n",
    "import numpy as np\n",
    "\n",
    "train = pd.read_csv(\"./data/train.csv\")\n",
    "test = pd.read_csv(\"./data/test.csv\")\n",
    "\n",
    "# 前処理：欠損データの補完\n",
    "# 代理データを中央値や最頻値で置き換える\n",
    "train[\"Age\"] = train[\"Age\"].fillna(train[\"Age\"].median())\n",
    "train[\"Embarked\"] = train[\"Embarked\"].fillna(\"S\")\n",
    "\n",
    "# 前処理：カテゴリカルデータの数値化\n",
    "# Sexは['male','female']を[0,1]に、Embarkedは['S','C','Q']を[0,1,2]に変換\n",
    "train[\"Sex\"].loc[train[\"Sex\"] == \"male\"] = 0\n",
    "train[\"Sex\"].loc[train[\"Sex\"] == \"female\"] = 1\n",
    "train[\"Embarked\"].loc[train[\"Embarked\"] == \"S\"] = 0\n",
    "train[\"Embarked\"].loc[train[\"Embarked\"] == \"C\"] = 1\n",
    "train[\"Embarked\"].loc[train[\"Embarked\"] == \"Q\"] = 2\n",
    "\n",
    "# testもtrainと同様に前処理\n",
    "test[\"Age\"] = test[\"Age\"].fillna(test[\"Age\"].median())\n",
    "test[\"Sex\"].loc[test[\"Sex\"] == \"male\"] = 0\n",
    "test[\"Sex\"].loc[test[\"Sex\"] == \"female\"] = 1\n",
    "test[\"Embarked\"].loc[test[\"Embarked\"] == \"S\"] = 0\n",
    "test[\"Embarked\"].loc[test[\"Embarked\"] == \"C\"] = 1\n",
    "test[\"Embarked\"].loc[test[\"Embarked\"] == \"Q\"] = 2\n",
    "test.Fare.loc[152] = test.Fare.median()\n",
    "\n",
    "#　家族数を追加\n",
    "train_two = train.copy()\n",
    "train_two[\"family_size\"] = train_two[\"SibSp\"] + train_two[\"Parch\"] + 1\n",
    "test_two = test.copy()\n",
    "test_two[\"family_size\"] = test_two[\"SibSp\"] + test_two[\"Parch\"] + 1\n",
    "\n",
    "# 「train」の目的変数と説明変数の値を取得\n",
    "target = train[\"Survived\"].values\n",
    "features = train_two[[\"Pclass\", \"Age\", \"Sex\", \"Fare\", \"family_size\", \"Embarked\"]].values\n",
    "\n",
    "# モデルは勾配ブースティング\n",
    "forest = GradientBoostingClassifier(n_estimators=55, random_state=9)\n",
    "forest = forest.fit(features, target)\n",
    "\n",
    "# testから値を取り出す\n",
    "test_features = test_two[[\"Pclass\", \"Age\", \"Sex\", \"Fare\", \"family_size\", \"Embarked\"]].values\n",
    "\n",
    "# 予測をしてCSVへ書き出す\n",
    "my_prediction_forest = forest.predict(test_features)\n",
    "PassengerId = np.array(test[\"PassengerId\"]).astype(int)\n",
    "my_solution_forest = pd.DataFrame(my_prediction_forest, PassengerId, columns=[\"Survived\"])\n",
    "my_solution_forest.to_csv(\"./data/submit.csv\", index_label=[\"PassengerId\"])"
   ]
  },
  {
   "cell_type": "code",
   "execution_count": null,
   "metadata": {},
   "outputs": [],
   "source": []
  }
 ],
 "metadata": {
  "kernelspec": {
   "display_name": "Python 3",
   "language": "python",
   "name": "python3"
  },
  "language_info": {
   "codemirror_mode": {
    "name": "ipython",
    "version": 3
   },
   "file_extension": ".py",
   "mimetype": "text/x-python",
   "name": "python",
   "nbconvert_exporter": "python",
   "pygments_lexer": "ipython3",
   "version": "3.6.4"
  }
 },
 "nbformat": 4,
 "nbformat_minor": 2
}
