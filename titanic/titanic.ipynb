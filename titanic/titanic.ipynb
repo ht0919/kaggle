{
 "cells": [
  {
   "cell_type": "code",
   "execution_count": 1,
   "metadata": {
    "scrolled": true
   },
   "outputs": [
    {
     "name": "stderr",
     "output_type": "stream",
     "text": [
      "/home/ht0919/.pyenv/versions/3.6.4/lib/python3.6/site-packages/pandas/core/indexing.py:190: SettingWithCopyWarning: \n",
      "A value is trying to be set on a copy of a slice from a DataFrame\n",
      "\n",
      "See the caveats in the documentation: http://pandas.pydata.org/pandas-docs/stable/indexing.html#indexing-view-versus-copy\n",
      "  self._setitem_with_indexer(indexer, value)\n"
     ]
    }
   ],
   "source": [
    "import pandas as pd\n",
    "import numpy as np\n",
    "\n",
    "train = pd.read_csv(\"./data/train.csv\")\n",
    "test = pd.read_csv(\"./data/test.csv\")\n",
    "\n",
    "train[\"Age\"] = train[\"Age\"].fillna(train[\"Age\"].median())\n",
    "train[\"Embarked\"] = train[\"Embarked\"].fillna(\"S\")\n",
    "\n",
    "train[\"Sex\"].loc[train[\"Sex\"] == \"male\"] = 0\n",
    "train[\"Sex\"].loc[train[\"Sex\"] == \"female\"] = 1\n",
    "train[\"Embarked\"].loc[train[\"Embarked\"] == \"S\" ] = 0\n",
    "train[\"Embarked\"].loc[train[\"Embarked\"] == \"C\" ] = 1\n",
    "train[\"Embarked\"].loc[train[\"Embarked\"] == \"Q\"] = 2\n",
    "\n",
    "test[\"Age\"] = test[\"Age\"].fillna(test[\"Age\"].median())\n",
    "test[\"Sex\"].loc[test[\"Sex\"] == \"male\"] = 0\n",
    "test[\"Sex\"].loc[test[\"Sex\"] == \"female\"] = 1\n",
    "test[\"Embarked\"].loc[test[\"Embarked\"] == \"S\"] = 0\n",
    "test[\"Embarked\"].loc[test[\"Embarked\"] == \"C\"] = 1\n",
    "test[\"Embarked\"].loc[test[\"Embarked\"] == \"Q\"] = 2\n",
    "test.Fare.loc[152] = test.Fare.median()\n",
    "\n",
    "# scikit-learnのインポートをします\n",
    "from sklearn import tree\n",
    "\n",
    "# 「train」の目的変数と説明変数の値を取得\n",
    "target = train[\"Survived\"].values\n",
    "# 追加となった項目も含めて予測モデルその2で使う値を取り出す\n",
    "features_two = train[[\"Pclass\",\"Age\",\"Sex\",\"Fare\", \"SibSp\", \"Parch\", \"Embarked\"]].values\n",
    "# 決定木の作成とアーギュメントの設定\n",
    "max_depth = 10\n",
    "min_samples_split = 5\n",
    "my_tree_two = tree.DecisionTreeClassifier(max_depth = max_depth, min_samples_split = min_samples_split, random_state = 1)\n",
    "my_tree_two = my_tree_two.fit(features_two, target)\n",
    "# tsetから「その2」で使う項目の値を取り出す\n",
    "test_features_2 = test[[\"Pclass\", \"Age\", \"Sex\", \"Fare\", \"SibSp\", \"Parch\", \"Embarked\"]].values\n",
    "# 「その2」の決定木を使って予測をしてCSVへ書き出す\n",
    "my_prediction_tree_two = my_tree_two.predict(test_features_2)\n",
    "PassengerId = np.array(test[\"PassengerId\"]).astype(int)\n",
    "my_solution_tree_two = pd.DataFrame(my_prediction_tree_two, PassengerId, columns = [\"Survived\"])\n",
    "my_solution_tree_two.to_csv(\"./data/submit.csv\", index_label = [\"PassengerId\"])"
   ]
  },
  {
   "cell_type": "code",
   "execution_count": null,
   "metadata": {},
   "outputs": [],
   "source": []
  }
 ],
 "metadata": {
  "kernelspec": {
   "display_name": "Python 3",
   "language": "python",
   "name": "python3"
  },
  "language_info": {
   "codemirror_mode": {
    "name": "ipython",
    "version": 3
   },
   "file_extension": ".py",
   "mimetype": "text/x-python",
   "name": "python",
   "nbconvert_exporter": "python",
   "pygments_lexer": "ipython3",
   "version": "3.6.4"
  }
 },
 "nbformat": 4,
 "nbformat_minor": 2
}
